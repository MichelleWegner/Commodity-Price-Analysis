{
 "cells": [
  {
   "cell_type": "markdown",
   "metadata": {},
   "source": [
    "# Statistical Analysis and Hypothesis Testing"
   ]
  },
  {
   "cell_type": "code",
   "execution_count": 1,
   "metadata": {},
   "outputs": [
    {
     "name": "stderr",
     "output_type": "stream",
     "text": [
      "/Applications/anaconda3/lib/python3.11/site-packages/tqdm/auto.py:21: TqdmWarning: IProgress not found. Please update jupyter and ipywidgets. See https://ipywidgets.readthedocs.io/en/stable/user_install.html\n",
      "  from .autonotebook import tqdm as notebook_tqdm\n"
     ]
    },
    {
     "name": "stdout",
     "output_type": "stream",
     "text": [
      "         Date    OIL    GLD     SLV\n",
      "0  2008-01-02  97.01  84.86  15.180\n",
      "1  2008-01-03  98.45  85.57  15.285\n",
      "2  2008-01-04  96.87  85.13  15.167\n",
      "3  2008-01-07  94.19  84.77  15.053\n",
      "4  2008-01-08  96.37  86.78  15.590\n"
     ]
    }
   ],
   "source": [
    "import pandas as pd\n",
    "from prophet import Prophet\n",
    "import matplotlib.pyplot as plt \n",
    "\n",
    "# Load the merged dataset\n",
    "file_path = '/Users/mishka/Documents/GitHub/Final-Project/Clean Data/merged_data.csv'  # Update the path to where your file is located\n",
    "merged_data = pd.read_csv(file_path)\n",
    "\n",
    "# Display the first few rows to ensure it's loaded correctly\n",
    "print(merged_data.head())"
   ]
  },
  {
   "cell_type": "code",
   "execution_count": 15,
   "metadata": {},
   "outputs": [
    {
     "name": "stdout",
     "output_type": "stream",
     "text": [
      "Correlation between Gold and Oil: 0.528654262621428 (p-value: 9.96652676612479e-162)\n",
      "Correlation between Gold and Silver: 0.8679038361872119 (p-value: 0.0)\n"
     ]
    }
   ],
   "source": [
    "from scipy.stats import pearsonr\n",
    "\n",
    "# Calculate the Pearson correlation coefficient between Gold and Oil prices\n",
    "corr_gold_oil, p_value_gold_oil = pearsonr(merged_data['GLD'], merged_data['OIL'])\n",
    "corr_gold_silver, p_value_gold_silver = pearsonr(merged_data['GLD'], merged_data['SLV'])\n",
    "\n",
    "print(f\"Correlation between Gold and Oil: {corr_gold_oil} (p-value: {p_value_gold_oil})\")\n",
    "print(f\"Correlation between Gold and Silver: {corr_gold_silver} (p-value: {p_value_gold_silver})\")"
   ]
  },
  {
   "cell_type": "markdown",
   "metadata": {},
   "source": [
    "### 1.Hypothesis on the volatility of gold and oil:\n",
    "\n",
    "***Hypothesis:*** Gold prices tend to rise when oil price volatility is high, making gold an effective hedge against uncertainty in commodity markets.\n",
    "\n",
    "\n",
    "***Explanation:*** In times of high volatility on the oil markets, investors may seek safety in gold, which increases the price in such times."
   ]
  },
  {
   "cell_type": "code",
   "execution_count": 11,
   "metadata": {},
   "outputs": [
    {
     "name": "stdout",
     "output_type": "stream",
     "text": [
      "Correlation between the volatility of oil prices and the gold price: -0.2641192956683762, P-Wert: 4.259460422972695e-37\n"
     ]
    }
   ],
   "source": [
    "import pandas as pd\n",
    "from scipy.stats import pearsonr\n",
    "\n",
    "# Berechnung der täglichen prozentualen Veränderungen als Maß für die Volatilität\n",
    "merged_data['OIL_volatility'] = merged_data['OIL'].pct_change().abs()\n",
    "\n",
    "# Entfernen von Zeilen, die NaN-Werte in einer der relevanten Spalten enthalten\n",
    "valid_data = merged_data[['OIL_volatility', 'GLD']].dropna()\n",
    "\n",
    "# Berechnung der Korrelation zwischen der Volatilität der Ölpreise und den Goldpreisen\n",
    "corr_oil_volatility_gold, p_value_oil_volatility_gold = pearsonr(valid_data['OIL_volatility'], valid_data['GLD'])\n",
    "\n",
    "print(f\"Correlation between the volatility of oil prices and the gold price: {corr_oil_volatility_gold}, P-Wert: {p_value_oil_volatility_gold}\")\n"
   ]
  },
  {
   "cell_type": "markdown",
   "metadata": {},
   "source": [
    "***Results:*** The correlation between oil price volatility and gold prices is -0.2641 with a very low P-value (4.259460422972695e-37).\n",
    "\n",
    " This indicates a negative correlation, which could suggest that gold does not necessarily increase in value during periods of high oil price volatility.\n",
    "\n",
    "***Conclusion:*** The hypothesis is not fully supported as the negative correlation suggests that gold may not be suitable as a hedge against market volatility in all cases."
   ]
  },
  {
   "cell_type": "markdown",
   "metadata": {},
   "source": [
    "### 2. Hypothesis on the relationship between commodity prices:\n",
    "\n",
    "***Hypothesis:*** Sharp rises in oil prices have a negative impact on the prices of other commodities such as gold and silver.\n",
    "\n",
    "\n",
    "***Explanation:*** If oil prices rise, the prices of other commodities such as gold and silver could also be affected, either through direct market dynamics or through shifted investments."
   ]
  },
  {
   "cell_type": "code",
   "execution_count": 12,
   "metadata": {},
   "outputs": [
    {
     "name": "stdout",
     "output_type": "stream",
     "text": [
      "Oil and Gold - Slope: 0.4412514652246467, P-Value: 9.966526766126306e-162, R-squared: 0.2794753293878058\n",
      "Oil and Silver - Slope: 0.18069815409612916, P-Value: 0.0, R-squared: 0.5083095274982847\n"
     ]
    }
   ],
   "source": [
    "from scipy.stats import linregress\n",
    "\n",
    "# Linear regression: Examine the relationship between oil and gold prices\n",
    "slope_gold, intercept_gold, r_value_gold, p_value_gold, std_err_gold = linregress(merged_data['OIL'], merged_data['GLD'])\n",
    "slope_silver, intercept_silver, r_value_silver, p_value_silver, std_err_silver = linregress(merged_data['OIL'], merged_data['SLV'])\n",
    "\n",
    "print(f\"Oil and Gold - Slope: {slope_gold}, P-Value: {p_value_gold}, R-squared: {r_value_gold**2}\")\n",
    "print(f\"Oil and Silver - Slope: {slope_silver}, P-Value: {p_value_silver}, R-squared: {r_value_silver**2}\")"
   ]
  },
  {
   "cell_type": "markdown",
   "metadata": {},
   "source": [
    "***Results:*** The slope between oil and gold is 0.4413 with a P-value of 9.966526766126306e-162 and an R-squared of 0.2795. \n",
    "\n",
    "The slope between oil and silver is 0.1807 with a P-value of 0.0 and an R-squared of 0.5083. Both relationships are significant, with the relationship with silver being stronger.\n",
    "\n",
    "\n",
    "***Conclusion:*** These results partially confirm the hypothesis, particularly in relation to silver, which shows a stronger correlation with oil prices. \n",
    "\n",
    "It is possible that rising oil prices also have an impact on other markets."
   ]
  },
  {
   "cell_type": "markdown",
   "metadata": {},
   "source": [
    "### 3. Hypothesis for predicting future price movements:\n",
    "\n",
    "***Hypothesis:*** Increases in the prices of commodities such as oil and gold are leading indicators of future increases in other commodities, particularly silver.\n",
    "\n",
    "\n",
    "***Explanation:*** Rising oil and gold prices could predict future price changes in silver, as these commodities are often traded in similar market cycles."
   ]
  },
  {
   "cell_type": "code",
   "execution_count": 14,
   "metadata": {},
   "outputs": [
    {
     "name": "stdout",
     "output_type": "stream",
     "text": [
      "Correlation between lagged oil prices and silver prices: 0.6375447906479285, P-Value: 9.355098691545608e-253\n",
      "Correlation between lagged gold prices and silver prices: 0.8004808712104129, P-Value: 0.0\n"
     ]
    }
   ],
   "source": [
    "import pandas as pd\n",
    "from scipy.stats import pearsonr\n",
    "\n",
    "# Time lag analysis: Shift the oil and gold prices by 1 month\n",
    "merged_data['OIL_shifted'] = merged_data['OIL'].shift(30)  # 30-day lag\n",
    "merged_data['GLD_shifted'] = merged_data['GLD'].shift(30)\n",
    "\n",
    "# Drop rows with NaN values in any of the relevant columns to ensure they have the same length\n",
    "aligned_data = merged_data.dropna(subset=['OIL_shifted', 'GLD_shifted', 'SLV'])\n",
    "\n",
    "# Correlation of shifted oil and gold prices with current silver prices\n",
    "corr_oil_silver_lagged, p_value_oil_silver_lagged = pearsonr(aligned_data['OIL_shifted'], aligned_data['SLV'])\n",
    "corr_gold_silver_lagged, p_value_gold_silver_lagged = pearsonr(aligned_data['GLD_shifted'], aligned_data['SLV'])\n",
    "\n",
    "print(f\"Correlation between lagged oil prices and silver prices: {corr_oil_silver_lagged}, P-Value: {p_value_oil_silver_lagged}\")\n",
    "print(f\"Correlation between lagged gold prices and silver prices: {corr_gold_silver_lagged}, P-Value: {p_value_gold_silver_lagged}\")\n"
   ]
  },
  {
   "cell_type": "markdown",
   "metadata": {},
   "source": [
    "***Results:*** The correlation between lagged oil prices and silver prices is 0.6375 with a very low P-value (9.355098691545608e-253). The correlation between lagged gold prices and silver prices is 0.8005 with a P-value of 0.0. These strong positive correlations suggest that price changes in gold and oil may well serve as leading indicators.\n",
    "\n",
    "\n",
    "***Conclusion:*** These results strongly support the hypothesis. \n",
    "\n",
    "In particular, the high correlation between lagged gold prices and current silver prices suggests that changes in commodity prices can be used as indicators of future market developments."
   ]
  },
  {
   "cell_type": "markdown",
   "metadata": {},
   "source": [
    "# Multivariate Regression:"
   ]
  },
  {
   "cell_type": "code",
   "execution_count": 4,
   "metadata": {},
   "outputs": [
    {
     "name": "stdout",
     "output_type": "stream",
     "text": [
      "                            OLS Regression Results                            \n",
      "==============================================================================\n",
      "Dep. Variable:                    SLV   R-squared:                       0.843\n",
      "Model:                            OLS   Adj. R-squared:                  0.843\n",
      "Method:                 Least Squares   F-statistic:                     6009.\n",
      "Date:                Thu, 22 Aug 2024   Prob (F-statistic):               0.00\n",
      "Time:                        22:46:52   Log-Likelihood:                -5492.2\n",
      "No. Observations:                2243   AIC:                         1.099e+04\n",
      "Df Residuals:                    2240   BIC:                         1.101e+04\n",
      "Df Model:                           2                                         \n",
      "Covariance Type:            nonrobust                                         \n",
      "==============================================================================\n",
      "                 coef    std err          t      P>|t|      [0.025      0.975]\n",
      "------------------------------------------------------------------------------\n",
      "const        -12.5509      0.318    -39.517      0.000     -13.174     -11.928\n",
      "OIL            0.0894      0.003     35.750      0.000       0.084       0.094\n",
      "GLD            0.2069      0.003     69.069      0.000       0.201       0.213\n",
      "==============================================================================\n",
      "Omnibus:                      718.791   Durbin-Watson:                   0.016\n",
      "Prob(Omnibus):                  0.000   Jarque-Bera (JB):             2844.586\n",
      "Skew:                           1.525   Prob(JB):                         0.00\n",
      "Kurtosis:                       7.597   Cond. No.                         806.\n",
      "==============================================================================\n",
      "\n",
      "Notes:\n",
      "[1] Standard Errors assume that the covariance matrix of the errors is correctly specified.\n"
     ]
    }
   ],
   "source": [
    "import statsmodels.api as sm\n",
    "import pandas as pd\n",
    "\n",
    "# Load the merged dataset\n",
    "file_path = '/Users/mishka/Documents/GitHub/Final-Project/Clean Data/merged_data.csv' \n",
    "merged_data = pd.read_csv(file_path)\n",
    "\n",
    "# Preparing the independent variables (Oil and Gold) and dependent variable (Silver)\n",
    "X = merged_data[['OIL', 'GLD']]\n",
    "y = merged_data['SLV']\n",
    "\n",
    "# Add a constant to the model (intercept)\n",
    "X = sm.add_constant(X)\n",
    "\n",
    "# Fit the model\n",
    "model = sm.OLS(y, X).fit()\n",
    "\n",
    "# Print the summary of the regression\n",
    "print(model.summary())\n"
   ]
  }
 ],
 "metadata": {
  "kernelspec": {
   "display_name": "base",
   "language": "python",
   "name": "python3"
  },
  "language_info": {
   "codemirror_mode": {
    "name": "ipython",
    "version": 3
   },
   "file_extension": ".py",
   "mimetype": "text/x-python",
   "name": "python",
   "nbconvert_exporter": "python",
   "pygments_lexer": "ipython3",
   "version": "3.11.7"
  }
 },
 "nbformat": 4,
 "nbformat_minor": 2
}
