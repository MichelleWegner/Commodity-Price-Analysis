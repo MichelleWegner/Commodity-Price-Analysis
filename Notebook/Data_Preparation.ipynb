{
 "cells": [
  {
   "cell_type": "markdown",
   "metadata": {},
   "source": [
    "## Load Dataset's"
   ]
  },
  {
   "cell_type": "code",
   "execution_count": 76,
   "metadata": {},
   "outputs": [
    {
     "data": {
      "text/plain": [
       "((8554, 2), (2290, 6), (13736, 4))"
      ]
     },
     "execution_count": 76,
     "metadata": {},
     "output_type": "execute_result"
    }
   ],
   "source": [
    "#Libaries\n",
    "import pandas as pd\n",
    "\n",
    "# Load the datasets\n",
    "brent_oil_data = pd.read_csv('/Users/mishka/Documents/GitHub/Final-Project/Data/BrentOilPrices.csv')\n",
    "gold_data = pd.read_csv('/Users/mishka/Documents/GitHub/Final-Project/Data/gld_price_data.csv')\n",
    "silver_data = pd.read_csv('/Users/mishka/Documents/GitHub/Final-Project/Data/LBMA-SILVER.csv')\n",
    "\n",
    "# Display basic information about the datasets\n",
    "brent_oil_info = brent_oil_data.shape\n",
    "gold_info = gold_data.shape\n",
    "silver_info = silver_data.shape\n",
    "\n",
    "brent_oil_info, gold_info, silver_info"
   ]
  },
  {
   "cell_type": "markdown",
   "metadata": {},
   "source": [
    "## Data Preparation"
   ]
  },
  {
   "cell_type": "code",
   "execution_count": 77,
   "metadata": {},
   "outputs": [
    {
     "name": "stderr",
     "output_type": "stream",
     "text": [
      "/var/folders/f6/2h1ph12j6r9c8gpllh_52j940000gn/T/ipykernel_8753/1117584179.py:2: UserWarning: Could not infer format, so each element will be parsed individually, falling back to `dateutil`. To ensure parsing is consistent and as-expected, please specify a format.\n",
      "  brent_oil_data['Date'] = pd.to_datetime(brent_oil_data['Date'], errors='coerce')  # 'coerce' will handle errors\n"
     ]
    },
    {
     "data": {
      "text/html": [
       "<div>\n",
       "<style scoped>\n",
       "    .dataframe tbody tr th:only-of-type {\n",
       "        vertical-align: middle;\n",
       "    }\n",
       "\n",
       "    .dataframe tbody tr th {\n",
       "        vertical-align: top;\n",
       "    }\n",
       "\n",
       "    .dataframe thead th {\n",
       "        text-align: right;\n",
       "    }\n",
       "</style>\n",
       "<table border=\"1\" class=\"dataframe\">\n",
       "  <thead>\n",
       "    <tr style=\"text-align: right;\">\n",
       "      <th></th>\n",
       "      <th>Date</th>\n",
       "      <th>Price</th>\n",
       "    </tr>\n",
       "  </thead>\n",
       "  <tbody>\n",
       "  </tbody>\n",
       "</table>\n",
       "</div>"
      ],
      "text/plain": [
       "Empty DataFrame\n",
       "Columns: [Date, Price]\n",
       "Index: []"
      ]
     },
     "execution_count": 77,
     "metadata": {},
     "output_type": "execute_result"
    }
   ],
   "source": [
    "# Try converting the date with a different format to handle cases like 'Apr 22, 2020'\n",
    "brent_oil_data['Date'] = pd.to_datetime(brent_oil_data['Date'], errors='coerce')  # 'coerce' will handle errors\n",
    "\n",
    "# Rechecking the rows where conversion to datetime might have failed\n",
    "brent_oil_invalid_dates = brent_oil_data[brent_oil_data['Date'].isnull()]\n",
    "brent_oil_invalid_dates\n"
   ]
  },
  {
   "cell_type": "code",
   "execution_count": 78,
   "metadata": {},
   "outputs": [
    {
     "name": "stdout",
     "output_type": "stream",
     "text": [
      "        Date    OIL\n",
      "0 1987-05-20  18.63\n",
      "1 1987-05-21  18.45\n",
      "2 1987-05-22  18.55\n",
      "3 1987-05-25  18.60\n",
      "4 1987-05-26  18.63\n"
     ]
    }
   ],
   "source": [
    "# Umbenennen der Spalte 'Price' in 'OIL'\n",
    "brent_oil_data = brent_oil_data.rename(columns={'Price': 'OIL'})\n",
    "\n",
    "# Überprüfen, ob die Spalte erfolgreich umbenannt wurde\n",
    "print(brent_oil_data.head())"
   ]
  },
  {
   "cell_type": "code",
   "execution_count": 79,
   "metadata": {},
   "outputs": [],
   "source": [
    "# Dropping the specified columns before merging\n",
    "gold_data = gold_data.drop(columns=['EUR/USD', 'USO', 'SPX'])\n",
    "silver_data = silver_data.drop(columns=['USD', 'GBP', 'EURO'])\n"
   ]
  },
  {
   "cell_type": "code",
   "execution_count": 80,
   "metadata": {},
   "outputs": [],
   "source": [
    "# Try converting the date with a different format to handle cases like 'Apr 22, 2020'\n",
    "brent_oil_data['Date'] = pd.to_datetime(brent_oil_data['Date'], errors='coerce')  # 'coerce' will handle errors\n"
   ]
  },
  {
   "cell_type": "code",
   "execution_count": 81,
   "metadata": {},
   "outputs": [
    {
     "data": {
      "text/html": [
       "<div>\n",
       "<style scoped>\n",
       "    .dataframe tbody tr th:only-of-type {\n",
       "        vertical-align: middle;\n",
       "    }\n",
       "\n",
       "    .dataframe tbody tr th {\n",
       "        vertical-align: top;\n",
       "    }\n",
       "\n",
       "    .dataframe thead th {\n",
       "        text-align: right;\n",
       "    }\n",
       "</style>\n",
       "<table border=\"1\" class=\"dataframe\">\n",
       "  <thead>\n",
       "    <tr style=\"text-align: right;\">\n",
       "      <th></th>\n",
       "      <th>Date</th>\n",
       "      <th>OIL</th>\n",
       "    </tr>\n",
       "  </thead>\n",
       "  <tbody>\n",
       "  </tbody>\n",
       "</table>\n",
       "</div>"
      ],
      "text/plain": [
       "Empty DataFrame\n",
       "Columns: [Date, OIL]\n",
       "Index: []"
      ]
     },
     "execution_count": 81,
     "metadata": {},
     "output_type": "execute_result"
    }
   ],
   "source": [
    "# Rechecking the rows \n",
    "brent_oil_invalid_dates = brent_oil_data[brent_oil_data['Date'].isnull()]\n",
    "brent_oil_invalid_dates"
   ]
  },
  {
   "cell_type": "code",
   "execution_count": 82,
   "metadata": {},
   "outputs": [],
   "source": [
    "# For Gold Data: converting to datetime format\n",
    "gold_data['Date'] = pd.to_datetime(gold_data['Date'], format='%m/%d/%Y')\n"
   ]
  },
  {
   "cell_type": "code",
   "execution_count": 83,
   "metadata": {},
   "outputs": [],
   "source": [
    "# For Silver Data: converting to datetime format\n",
    "silver_data['Date'] = pd.to_datetime(silver_data['Date'])"
   ]
  },
  {
   "cell_type": "code",
   "execution_count": 84,
   "metadata": {},
   "outputs": [],
   "source": [
    "# Now, let's merge the datasets on the 'Date' column\n",
    "merged_data = pd.merge(brent_oil_data, gold_data, on='Date', how='inner')\n",
    "merged_data = pd.merge(merged_data, silver_data, on='Date', how='inner')"
   ]
  },
  {
   "cell_type": "code",
   "execution_count": 87,
   "metadata": {},
   "outputs": [],
   "source": [
    "# Rundung der Preis-Spalten auf 3 Dezimalstellen\n",
    "merged_data['OIL'] = merged_data['OIL'].round(3)\n",
    "merged_data['GLD'] = merged_data['GLD'].round(3)\n",
    "merged_data['SLV'] = merged_data['SLV'].round(3)"
   ]
  },
  {
   "cell_type": "code",
   "execution_count": 89,
   "metadata": {},
   "outputs": [
    {
     "data": {
      "text/html": [
       "<div>\n",
       "<style scoped>\n",
       "    .dataframe tbody tr th:only-of-type {\n",
       "        vertical-align: middle;\n",
       "    }\n",
       "\n",
       "    .dataframe tbody tr th {\n",
       "        vertical-align: top;\n",
       "    }\n",
       "\n",
       "    .dataframe thead th {\n",
       "        text-align: right;\n",
       "    }\n",
       "</style>\n",
       "<table border=\"1\" class=\"dataframe\">\n",
       "  <thead>\n",
       "    <tr style=\"text-align: right;\">\n",
       "      <th></th>\n",
       "      <th>Date</th>\n",
       "      <th>OIL</th>\n",
       "      <th>GLD</th>\n",
       "      <th>SLV</th>\n",
       "    </tr>\n",
       "  </thead>\n",
       "  <tbody>\n",
       "    <tr>\n",
       "      <th>0</th>\n",
       "      <td>2008-01-02</td>\n",
       "      <td>97.01</td>\n",
       "      <td>84.86</td>\n",
       "      <td>15.180</td>\n",
       "    </tr>\n",
       "    <tr>\n",
       "      <th>1</th>\n",
       "      <td>2008-01-03</td>\n",
       "      <td>98.45</td>\n",
       "      <td>85.57</td>\n",
       "      <td>15.285</td>\n",
       "    </tr>\n",
       "    <tr>\n",
       "      <th>2</th>\n",
       "      <td>2008-01-04</td>\n",
       "      <td>96.87</td>\n",
       "      <td>85.13</td>\n",
       "      <td>15.167</td>\n",
       "    </tr>\n",
       "    <tr>\n",
       "      <th>3</th>\n",
       "      <td>2008-01-07</td>\n",
       "      <td>94.19</td>\n",
       "      <td>84.77</td>\n",
       "      <td>15.053</td>\n",
       "    </tr>\n",
       "    <tr>\n",
       "      <th>4</th>\n",
       "      <td>2008-01-08</td>\n",
       "      <td>96.37</td>\n",
       "      <td>86.78</td>\n",
       "      <td>15.590</td>\n",
       "    </tr>\n",
       "    <tr>\n",
       "      <th>5</th>\n",
       "      <td>2008-01-09</td>\n",
       "      <td>96.76</td>\n",
       "      <td>86.55</td>\n",
       "      <td>15.520</td>\n",
       "    </tr>\n",
       "    <tr>\n",
       "      <th>6</th>\n",
       "      <td>2008-01-10</td>\n",
       "      <td>92.80</td>\n",
       "      <td>88.25</td>\n",
       "      <td>16.061</td>\n",
       "    </tr>\n",
       "    <tr>\n",
       "      <th>7</th>\n",
       "      <td>2008-01-11</td>\n",
       "      <td>91.86</td>\n",
       "      <td>88.58</td>\n",
       "      <td>16.077</td>\n",
       "    </tr>\n",
       "    <tr>\n",
       "      <th>8</th>\n",
       "      <td>2008-01-14</td>\n",
       "      <td>92.58</td>\n",
       "      <td>89.54</td>\n",
       "      <td>16.280</td>\n",
       "    </tr>\n",
       "    <tr>\n",
       "      <th>9</th>\n",
       "      <td>2008-01-15</td>\n",
       "      <td>90.87</td>\n",
       "      <td>87.99</td>\n",
       "      <td>15.834</td>\n",
       "    </tr>\n",
       "  </tbody>\n",
       "</table>\n",
       "</div>"
      ],
      "text/plain": [
       "        Date    OIL    GLD     SLV\n",
       "0 2008-01-02  97.01  84.86  15.180\n",
       "1 2008-01-03  98.45  85.57  15.285\n",
       "2 2008-01-04  96.87  85.13  15.167\n",
       "3 2008-01-07  94.19  84.77  15.053\n",
       "4 2008-01-08  96.37  86.78  15.590\n",
       "5 2008-01-09  96.76  86.55  15.520\n",
       "6 2008-01-10  92.80  88.25  16.061\n",
       "7 2008-01-11  91.86  88.58  16.077\n",
       "8 2008-01-14  92.58  89.54  16.280\n",
       "9 2008-01-15  90.87  87.99  15.834"
      ]
     },
     "execution_count": 89,
     "metadata": {},
     "output_type": "execute_result"
    }
   ],
   "source": [
    "# Display the first few rows of the merged dataset\n",
    "merged_data.head(10)"
   ]
  },
  {
   "cell_type": "code",
   "execution_count": 91,
   "metadata": {},
   "outputs": [],
   "source": [
    "# Saving merged dataset as CSV\n",
    "merged_data.to_csv('merged_data.csv', index=False)"
   ]
  },
  {
   "cell_type": "markdown",
   "metadata": {},
   "source": []
  },
  {
   "cell_type": "markdown",
   "metadata": {},
   "source": [
    "## Load Dataset's"
   ]
  },
  {
   "cell_type": "code",
   "execution_count": null,
   "metadata": {},
   "outputs": [
    {
     "data": {
      "text/plain": [
       "((8554, 2), (2290, 6), (13736, 4))"
      ]
     },
     "metadata": {},
     "output_type": "display_data"
    }
   ],
   "source": [
    "#Libaries\n",
    "import pandas as pd\n",
    "\n",
    "# Load the datasets\n",
    "brent_oil_data = pd.read_csv('/Users/mishka/Documents/GitHub/Final-Project/Data/BrentOilPrices.csv')\n",
    "gold_data = pd.read_csv('/Users/mishka/Documents/GitHub/Final-Project/Data/gld_price_data.csv')\n",
    "silver_data = pd.read_csv('/Users/mishka/Documents/GitHub/Final-Project/Data/LBMA-SILVER.csv')\n",
    "\n",
    "# Display basic information about the datasets\n",
    "brent_oil_info = brent_oil_data.shape\n",
    "gold_info = gold_data.shape\n",
    "silver_info = silver_data.shape\n",
    "\n",
    "brent_oil_info, gold_info, silver_info"
   ]
  },
  {
   "cell_type": "markdown",
   "metadata": {},
   "source": [
    "## Data Preparation"
   ]
  },
  {
   "cell_type": "code",
   "execution_count": null,
   "metadata": {},
   "outputs": [
    {
     "name": "stderr",
     "output_type": "stream",
     "text": [
      "/var/folders/f6/2h1ph12j6r9c8gpllh_52j940000gn/T/ipykernel_8753/1117584179.py:2: UserWarning: Could not infer format, so each element will be parsed individually, falling back to `dateutil`. To ensure parsing is consistent and as-expected, please specify a format.\n",
      "  brent_oil_data['Date'] = pd.to_datetime(brent_oil_data['Date'], errors='coerce')  # 'coerce' will handle errors\n"
     ]
    },
    {
     "data": {
      "text/html": [
       "<div>\n",
       "<style scoped>\n",
       "    .dataframe tbody tr th:only-of-type {\n",
       "        vertical-align: middle;\n",
       "    }\n",
       "\n",
       "    .dataframe tbody tr th {\n",
       "        vertical-align: top;\n",
       "    }\n",
       "\n",
       "    .dataframe thead th {\n",
       "        text-align: right;\n",
       "    }\n",
       "</style>\n",
       "<table border=\"1\" class=\"dataframe\">\n",
       "  <thead>\n",
       "    <tr style=\"text-align: right;\">\n",
       "      <th></th>\n",
       "      <th>Date</th>\n",
       "      <th>Price</th>\n",
       "    </tr>\n",
       "  </thead>\n",
       "  <tbody>\n",
       "  </tbody>\n",
       "</table>\n",
       "</div>"
      ],
      "text/plain": [
       "Empty DataFrame\n",
       "Columns: [Date, Price]\n",
       "Index: []"
      ]
     },
     "metadata": {},
     "output_type": "display_data"
    }
   ],
   "source": [
    "# Try converting the date with a different format to handle cases like 'Apr 22, 2020'\n",
    "brent_oil_data['Date'] = pd.to_datetime(brent_oil_data['Date'], errors='coerce')  # 'coerce' will handle errors\n",
    "\n",
    "# Rechecking the rows where conversion to datetime might have failed\n",
    "brent_oil_invalid_dates = brent_oil_data[brent_oil_data['Date'].isnull()]\n",
    "brent_oil_invalid_dates\n"
   ]
  },
  {
   "cell_type": "code",
   "execution_count": null,
   "metadata": {},
   "outputs": [
    {
     "name": "stdout",
     "output_type": "stream",
     "text": [
      "        Date    OIL\n",
      "0 1987-05-20  18.63\n",
      "1 1987-05-21  18.45\n",
      "2 1987-05-22  18.55\n",
      "3 1987-05-25  18.60\n",
      "4 1987-05-26  18.63\n"
     ]
    }
   ],
   "source": [
    "# Umbenennen der Spalte 'Price' in 'OIL'\n",
    "brent_oil_data = brent_oil_data.rename(columns={'Price': 'OIL'})\n",
    "\n",
    "# Überprüfen, ob die Spalte erfolgreich umbenannt wurde\n",
    "print(brent_oil_data.head())"
   ]
  },
  {
   "cell_type": "code",
   "execution_count": null,
   "metadata": {},
   "outputs": [],
   "source": [
    "# Dropping the specified columns before merging\n",
    "gold_data = gold_data.drop(columns=['EUR/USD', 'USO', 'SPX'])\n",
    "silver_data = silver_data.drop(columns=['USD', 'GBP', 'EURO'])\n"
   ]
  },
  {
   "cell_type": "code",
   "execution_count": null,
   "metadata": {},
   "outputs": [],
   "source": [
    "# Try converting the date with a different format to handle cases like 'Apr 22, 2020'\n",
    "brent_oil_data['Date'] = pd.to_datetime(brent_oil_data['Date'], errors='coerce')  # 'coerce' will handle errors\n"
   ]
  },
  {
   "cell_type": "code",
   "execution_count": null,
   "metadata": {},
   "outputs": [
    {
     "data": {
      "text/html": [
       "<div>\n",
       "<style scoped>\n",
       "    .dataframe tbody tr th:only-of-type {\n",
       "        vertical-align: middle;\n",
       "    }\n",
       "\n",
       "    .dataframe tbody tr th {\n",
       "        vertical-align: top;\n",
       "    }\n",
       "\n",
       "    .dataframe thead th {\n",
       "        text-align: right;\n",
       "    }\n",
       "</style>\n",
       "<table border=\"1\" class=\"dataframe\">\n",
       "  <thead>\n",
       "    <tr style=\"text-align: right;\">\n",
       "      <th></th>\n",
       "      <th>Date</th>\n",
       "      <th>OIL</th>\n",
       "    </tr>\n",
       "  </thead>\n",
       "  <tbody>\n",
       "  </tbody>\n",
       "</table>\n",
       "</div>"
      ],
      "text/plain": [
       "Empty DataFrame\n",
       "Columns: [Date, OIL]\n",
       "Index: []"
      ]
     },
     "metadata": {},
     "output_type": "display_data"
    }
   ],
   "source": [
    "# Rechecking the rows \n",
    "brent_oil_invalid_dates = brent_oil_data[brent_oil_data['Date'].isnull()]\n",
    "brent_oil_invalid_dates"
   ]
  },
  {
   "cell_type": "code",
   "execution_count": null,
   "metadata": {},
   "outputs": [],
   "source": [
    "# For Gold Data: converting to datetime format\n",
    "gold_data['Date'] = pd.to_datetime(gold_data['Date'], format='%m/%d/%Y')\n"
   ]
  },
  {
   "cell_type": "code",
   "execution_count": null,
   "metadata": {},
   "outputs": [],
   "source": [
    "# For Silver Data: converting to datetime format\n",
    "silver_data['Date'] = pd.to_datetime(silver_data['Date'])"
   ]
  },
  {
   "cell_type": "code",
   "execution_count": null,
   "metadata": {},
   "outputs": [],
   "source": [
    "# Now, let's merge the datasets on the 'Date' column\n",
    "merged_data = pd.merge(brent_oil_data, gold_data, on='Date', how='inner')\n",
    "merged_data = pd.merge(merged_data, silver_data, on='Date', how='inner')"
   ]
  },
  {
   "cell_type": "code",
   "execution_count": null,
   "metadata": {},
   "outputs": [],
   "source": [
    "# Rundung der Preis-Spalten auf 3 Dezimalstellen\n",
    "merged_data['OIL'] = merged_data['OIL'].round(3)\n",
    "merged_data['GLD'] = merged_data['GLD'].round(3)\n",
    "merged_data['SLV'] = merged_data['SLV'].round(3)"
   ]
  },
  {
   "cell_type": "code",
   "execution_count": null,
   "metadata": {},
   "outputs": [
    {
     "data": {
      "text/html": [
       "<div>\n",
       "<style scoped>\n",
       "    .dataframe tbody tr th:only-of-type {\n",
       "        vertical-align: middle;\n",
       "    }\n",
       "\n",
       "    .dataframe tbody tr th {\n",
       "        vertical-align: top;\n",
       "    }\n",
       "\n",
       "    .dataframe thead th {\n",
       "        text-align: right;\n",
       "    }\n",
       "</style>\n",
       "<table border=\"1\" class=\"dataframe\">\n",
       "  <thead>\n",
       "    <tr style=\"text-align: right;\">\n",
       "      <th></th>\n",
       "      <th>Date</th>\n",
       "      <th>OIL</th>\n",
       "      <th>GLD</th>\n",
       "      <th>SLV</th>\n",
       "    </tr>\n",
       "  </thead>\n",
       "  <tbody>\n",
       "    <tr>\n",
       "      <th>0</th>\n",
       "      <td>2008-01-02</td>\n",
       "      <td>97.01</td>\n",
       "      <td>84.86</td>\n",
       "      <td>15.180</td>\n",
       "    </tr>\n",
       "    <tr>\n",
       "      <th>1</th>\n",
       "      <td>2008-01-03</td>\n",
       "      <td>98.45</td>\n",
       "      <td>85.57</td>\n",
       "      <td>15.285</td>\n",
       "    </tr>\n",
       "    <tr>\n",
       "      <th>2</th>\n",
       "      <td>2008-01-04</td>\n",
       "      <td>96.87</td>\n",
       "      <td>85.13</td>\n",
       "      <td>15.167</td>\n",
       "    </tr>\n",
       "    <tr>\n",
       "      <th>3</th>\n",
       "      <td>2008-01-07</td>\n",
       "      <td>94.19</td>\n",
       "      <td>84.77</td>\n",
       "      <td>15.053</td>\n",
       "    </tr>\n",
       "    <tr>\n",
       "      <th>4</th>\n",
       "      <td>2008-01-08</td>\n",
       "      <td>96.37</td>\n",
       "      <td>86.78</td>\n",
       "      <td>15.590</td>\n",
       "    </tr>\n",
       "    <tr>\n",
       "      <th>5</th>\n",
       "      <td>2008-01-09</td>\n",
       "      <td>96.76</td>\n",
       "      <td>86.55</td>\n",
       "      <td>15.520</td>\n",
       "    </tr>\n",
       "    <tr>\n",
       "      <th>6</th>\n",
       "      <td>2008-01-10</td>\n",
       "      <td>92.80</td>\n",
       "      <td>88.25</td>\n",
       "      <td>16.061</td>\n",
       "    </tr>\n",
       "    <tr>\n",
       "      <th>7</th>\n",
       "      <td>2008-01-11</td>\n",
       "      <td>91.86</td>\n",
       "      <td>88.58</td>\n",
       "      <td>16.077</td>\n",
       "    </tr>\n",
       "    <tr>\n",
       "      <th>8</th>\n",
       "      <td>2008-01-14</td>\n",
       "      <td>92.58</td>\n",
       "      <td>89.54</td>\n",
       "      <td>16.280</td>\n",
       "    </tr>\n",
       "    <tr>\n",
       "      <th>9</th>\n",
       "      <td>2008-01-15</td>\n",
       "      <td>90.87</td>\n",
       "      <td>87.99</td>\n",
       "      <td>15.834</td>\n",
       "    </tr>\n",
       "  </tbody>\n",
       "</table>\n",
       "</div>"
      ],
      "text/plain": [
       "        Date    OIL    GLD     SLV\n",
       "0 2008-01-02  97.01  84.86  15.180\n",
       "1 2008-01-03  98.45  85.57  15.285\n",
       "2 2008-01-04  96.87  85.13  15.167\n",
       "3 2008-01-07  94.19  84.77  15.053\n",
       "4 2008-01-08  96.37  86.78  15.590\n",
       "5 2008-01-09  96.76  86.55  15.520\n",
       "6 2008-01-10  92.80  88.25  16.061\n",
       "7 2008-01-11  91.86  88.58  16.077\n",
       "8 2008-01-14  92.58  89.54  16.280\n",
       "9 2008-01-15  90.87  87.99  15.834"
      ]
     },
     "metadata": {},
     "output_type": "display_data"
    }
   ],
   "source": [
    "# Display the first few rows of the merged dataset\n",
    "merged_data.head(10)"
   ]
  },
  {
   "cell_type": "code",
   "execution_count": null,
   "metadata": {},
   "outputs": [],
   "source": [
    "# Saving merged dataset as CSV\n",
    "merged_data.to_csv('merged_data.csv', index=False)"
   ]
  },
  {
   "cell_type": "markdown",
   "metadata": {},
   "source": []
  }
 ],
 "metadata": {
  "kernelspec": {
   "display_name": "base",
   "language": "python",
   "name": "python3"
  },
  "language_info": {
   "codemirror_mode": {
    "name": "ipython",
    "version": 3
   },
   "file_extension": ".py",
   "mimetype": "text/x-python",
   "name": "python",
   "nbconvert_exporter": "python",
   "pygments_lexer": "ipython3",
   "version": "3.11.7"
  }
 },
 "nbformat": 4,
 "nbformat_minor": 2
}
