{
 "cells": [
  {
   "cell_type": "markdown",
   "metadata": {},
   "source": [
    "## Load Dataset's"
   ]
  },
  {
   "cell_type": "code",
   "execution_count": null,
   "metadata": {},
   "outputs": [
    {
     "ename": "",
     "evalue": "",
     "output_type": "error",
     "traceback": [
      "\u001b[1;31mFailed to start the Kernel. \n",
      "\u001b[1;31mUnexpected end of JSON input. \n",
      "\u001b[1;31mView Jupyter <a href='command:jupyter.viewOutput'>log</a> for further details."
     ]
    }
   ],
   "source": [
    "#Libaries\n",
    "import pandas as pd\n",
    "\n",
    "# Load the datasets\n",
    "brent_oil_data = pd.read_csv('/Users/mishka/Documents/GitHub/Final-Project/Data/BrentOilPrices.csv')\n",
    "gold_data = pd.read_csv('/Users/mishka/Documents/GitHub/Final-Project/Data/gld_price_data.csv')\n",
    "silver_data = pd.read_csv('/Users/mishka/Documents/GitHub/Final-Project/Data/LBMA-SILVER.csv')\n",
    "\n",
    "# Display basic information about the datasets\n",
    "brent_oil_info = brent_oil_data.shape\n",
    "gold_info = gold_data.shape\n",
    "silver_info = silver_data.shape\n",
    "\n",
    "brent_oil_info, gold_info, silver_info"
   ]
  },
  {
   "cell_type": "markdown",
   "metadata": {},
   "source": [
    "## Data Preparation"
   ]
  },
  {
   "cell_type": "code",
   "execution_count": null,
   "metadata": {},
   "outputs": [
    {
     "ename": "",
     "evalue": "",
     "output_type": "error",
     "traceback": [
      "\u001b[1;31mFailed to start the Kernel. \n",
      "\u001b[1;31mUnexpected end of JSON input. \n",
      "\u001b[1;31mView Jupyter <a href='command:jupyter.viewOutput'>log</a> for further details."
     ]
    }
   ],
   "source": [
    "# converting the date with a different format to handle cases like 'Apr 22, 2020'\n",
    "brent_oil_data['Date'] = pd.to_datetime(brent_oil_data['Date'], errors='coerce')  # 'coerce' will handle errors\n",
    "\n",
    "# Rechecking the rows where conversion to datetime have failed\n",
    "brent_oil_invalid_dates = brent_oil_data[brent_oil_data['Date'].isnull()]\n",
    "brent_oil_invalid_dates\n"
   ]
  },
  {
   "cell_type": "code",
   "execution_count": null,
   "metadata": {},
   "outputs": [],
   "source": [
    "# rename\n",
    "brent_oil_data = brent_oil_data.rename(columns={'Price': 'OIL'})\n",
    "\n",
    "# Überprüfen, ob die Spalte erfolgreich umbenannt wurde\n",
    "print(brent_oil_data.head())"
   ]
  },
  {
   "cell_type": "code",
   "execution_count": null,
   "metadata": {},
   "outputs": [],
   "source": [
    "# Dropping the specified columns before merging\n",
    "gold_data = gold_data.drop(columns=['EUR/USD', 'USO', 'SPX'])\n",
    "silver_data = silver_data.drop(columns=['USD', 'GBP', 'EURO'])\n"
   ]
  },
  {
   "cell_type": "code",
   "execution_count": null,
   "metadata": {},
   "outputs": [],
   "source": [
    "# converting the date with a different format to handle cases like 'Apr 22, 2020'\n",
    "brent_oil_data['Date'] = pd.to_datetime(brent_oil_data['Date'], errors='coerce')  # 'coerce' will handle errors\n"
   ]
  },
  {
   "cell_type": "code",
   "execution_count": null,
   "metadata": {},
   "outputs": [],
   "source": [
    "# Rechecking the rows \n",
    "brent_oil_invalid_dates = brent_oil_data[brent_oil_data['Date'].isnull()]\n",
    "brent_oil_invalid_dates"
   ]
  },
  {
   "cell_type": "code",
   "execution_count": null,
   "metadata": {},
   "outputs": [],
   "source": [
    "# For Gold Data: converting to datetime format\n",
    "gold_data['Date'] = pd.to_datetime(gold_data['Date'], format='%m/%d/%Y')\n"
   ]
  },
  {
   "cell_type": "code",
   "execution_count": null,
   "metadata": {},
   "outputs": [],
   "source": [
    "# For Silver Data: converting to datetime format\n",
    "silver_data['Date'] = pd.to_datetime(silver_data['Date'])"
   ]
  },
  {
   "cell_type": "code",
   "execution_count": null,
   "metadata": {},
   "outputs": [],
   "source": [
    "# Now, let's merge the datasets on the 'Date' column\n",
    "merged_data = pd.merge(brent_oil_data, gold_data, on='Date', how='inner')\n",
    "merged_data = pd.merge(merged_data, silver_data, on='Date', how='inner')"
   ]
  },
  {
   "cell_type": "code",
   "execution_count": null,
   "metadata": {},
   "outputs": [],
   "source": [
    "# Rundung der Preis-Spalten auf 3 Dezimalstellen\n",
    "merged_data['OIL'] = merged_data['OIL'].round(3)\n",
    "merged_data['GLD'] = merged_data['GLD'].round(3)\n",
    "merged_data['SLV'] = merged_data['SLV'].round(3)"
   ]
  },
  {
   "cell_type": "code",
   "execution_count": null,
   "metadata": {},
   "outputs": [],
   "source": [
    "# Display the first few rows of the merged dataset\n",
    "merged_data.head(10)"
   ]
  },
  {
   "cell_type": "code",
   "execution_count": null,
   "metadata": {},
   "outputs": [],
   "source": [
    "# Saving merged dataset as CSV\n",
    "merged_data.to_csv('merged_data.csv', index=False)"
   ]
  },
  {
   "cell_type": "markdown",
   "metadata": {},
   "source": []
  },
  {
   "cell_type": "markdown",
   "metadata": {},
   "source": [
    "## Load Dataset's"
   ]
  },
  {
   "cell_type": "code",
   "execution_count": null,
   "metadata": {},
   "outputs": [],
   "source": [
    "#Libaries\n",
    "import pandas as pd\n",
    "\n",
    "# Load the datasets\n",
    "brent_oil_data = pd.read_csv('/Users/mishka/Documents/GitHub/Final-Project/Data/BrentOilPrices.csv')\n",
    "gold_data = pd.read_csv('/Users/mishka/Documents/GitHub/Final-Project/Data/gld_price_data.csv')\n",
    "silver_data = pd.read_csv('/Users/mishka/Documents/GitHub/Final-Project/Data/LBMA-SILVER.csv')\n",
    "\n",
    "# Display basic information about the datasets\n",
    "brent_oil_info = brent_oil_data.shape\n",
    "gold_info = gold_data.shape\n",
    "silver_info = silver_data.shape\n",
    "\n",
    "brent_oil_info, gold_info, silver_info"
   ]
  },
  {
   "cell_type": "markdown",
   "metadata": {},
   "source": [
    "## Data Preparation"
   ]
  },
  {
   "cell_type": "code",
   "execution_count": null,
   "metadata": {},
   "outputs": [],
   "source": [
    "# Try converting the date with a different format to handle cases like 'Apr 22, 2020'\n",
    "brent_oil_data['Date'] = pd.to_datetime(brent_oil_data['Date'], errors='coerce')  # 'coerce' will handle errors\n",
    "\n",
    "# Rechecking the rows where conversion to datetime might have failed\n",
    "brent_oil_invalid_dates = brent_oil_data[brent_oil_data['Date'].isnull()]\n",
    "brent_oil_invalid_dates\n"
   ]
  },
  {
   "cell_type": "code",
   "execution_count": null,
   "metadata": {},
   "outputs": [],
   "source": [
    "# Umbenennen der Spalte 'Price' in 'OIL'\n",
    "brent_oil_data = brent_oil_data.rename(columns={'Price': 'OIL'})\n",
    "\n",
    "# Überprüfen, ob die Spalte erfolgreich umbenannt wurde\n",
    "print(brent_oil_data.head())"
   ]
  },
  {
   "cell_type": "code",
   "execution_count": null,
   "metadata": {},
   "outputs": [],
   "source": [
    "print(brent_oil_data.head())\n",
    "print(brent_oil_data.columns)"
   ]
  },
  {
   "cell_type": "code",
   "execution_count": null,
   "metadata": {},
   "outputs": [],
   "source": [
    "# Dropping the specified columns before merging\n",
    "gold_data = gold_data.drop(columns=['EUR/USD', 'USO', 'SPX'])\n",
    "silver_data = silver_data.drop(columns=['USD', 'GBP', 'EURO'])\n"
   ]
  },
  {
   "cell_type": "code",
   "execution_count": null,
   "metadata": {},
   "outputs": [],
   "source": [
    "# Try converting the date with a different format to handle cases like 'Apr 22, 2020'\n",
    "brent_oil_data['Date'] = pd.to_datetime(brent_oil_data['Date'], errors='coerce')  # 'coerce' will handle errors\n"
   ]
  },
  {
   "cell_type": "code",
   "execution_count": null,
   "metadata": {},
   "outputs": [],
   "source": [
    "# Rechecking the rows \n",
    "brent_oil_invalid_dates = brent_oil_data[brent_oil_data['Date'].isnull()]\n",
    "brent_oil_invalid_dates"
   ]
  },
  {
   "cell_type": "code",
   "execution_count": null,
   "metadata": {},
   "outputs": [],
   "source": [
    "# For Gold Data: converting to datetime format\n",
    "gold_data['Date'] = pd.to_datetime(gold_data['Date'], format='%m/%d/%Y')\n"
   ]
  },
  {
   "cell_type": "code",
   "execution_count": null,
   "metadata": {},
   "outputs": [],
   "source": [
    "# For Silver Data: converting to datetime format\n",
    "silver_data['Date'] = pd.to_datetime(silver_data['Date'])"
   ]
  },
  {
   "cell_type": "code",
   "execution_count": null,
   "metadata": {},
   "outputs": [],
   "source": [
    "# Now, let's merge the datasets on the 'Date' column\n",
    "merged_data = pd.merge(brent_oil_data, gold_data, on='Date', how='inner')\n",
    "merged_data = pd.merge(merged_data, silver_data, on='Date', how='inner')"
   ]
  },
  {
   "cell_type": "code",
   "execution_count": null,
   "metadata": {},
   "outputs": [],
   "source": [
    "# Rundung der Preis-Spalten auf 3 Dezimalstellen\n",
    "merged_data['OIL'] = merged_data['OIL'].round(3)\n",
    "merged_data['GLD'] = merged_data['GLD'].round(3)\n",
    "merged_data['SLV'] = merged_data['SLV'].round(3)"
   ]
  },
  {
   "cell_type": "code",
   "execution_count": null,
   "metadata": {},
   "outputs": [],
   "source": [
    "# Display the first few rows of the merged dataset\n",
    "merged_data.head(10)"
   ]
  }
 ],
 "metadata": {
  "kernelspec": {
   "display_name": "base",
   "language": "python",
   "name": "python3"
  },
  "language_info": {
   "codemirror_mode": {
    "name": "ipython",
    "version": 3
   },
   "file_extension": ".py",
   "mimetype": "text/x-python",
   "name": "python",
   "nbconvert_exporter": "python",
   "pygments_lexer": "ipython3",
   "version": "3.11.0"
  }
 },
 "nbformat": 4,
 "nbformat_minor": 2
}
